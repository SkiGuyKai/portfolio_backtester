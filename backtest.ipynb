{
 "cells": [
  {
   "cell_type": "markdown",
   "id": "2e5f3a36",
   "metadata": {},
   "source": [
    "# Portfolio Backtest-er\n",
    "Enter your desired securities and their optimal weightings. The final cell backtests each weight scheme for easy comparison."
   ]
  },
  {
   "cell_type": "code",
   "execution_count": null,
   "id": "037376b5",
   "metadata": {},
   "outputs": [],
   "source": [
    "import yfinance as yf\n",
    "import numpy as np\n",
    "import pandas as pd"
   ]
  },
  {
   "cell_type": "code",
   "execution_count": null,
   "id": "e7cf97e0",
   "metadata": {},
   "outputs": [],
   "source": [
    "'''Enter desired security symbols'''\n",
    "tickers = ['pltr', 'pypl', 'dm', 'aapl']\n",
    "tickers.sort()\n",
    "close = pd.DataFrame(columns=tickers)\n",
    "\n",
    "'''Dict for managing all ticker objects'''\n",
    "full = {}\n",
    "for ticker in tickers:\n",
    "    thing = yf.Ticker(ticker)\n",
    "    full[ticker] = thing\n",
    "    \n",
    "    '''Retrieve and clean historical data'''\n",
    "    data = thing.history(period='3y', interval='1d')\n",
    "    close[ticker] = data.loc[:, 'Close']\n",
    "    \n",
    "rtns = close.pct_change()\n",
    "n = len(close.columns)\n",
    "print(full)"
   ]
  },
  {
   "cell_type": "code",
   "execution_count": null,
   "id": "af5a0289",
   "metadata": {},
   "outputs": [],
   "source": [
    "'''Enter the optimal portfolio weights'''\n",
    "opt_w = [1.200535550662801, -0.3023499659188161, 0.5106478553277676, -0.4088334400717525]\n",
    "'''Equal weighted pofo'''\n",
    "eq_w = [0.2, 0.2, 0.2, 0.2, 0.2]"
   ]
  },
  {
   "cell_type": "code",
   "execution_count": null,
   "id": "296ccc28",
   "metadata": {},
   "outputs": [],
   "source": [
    "'''Price-weighted portfolio'''\n",
    "p_w = []\n",
    "\n",
    "tot_p = 0\n",
    "for i in range(n):\n",
    "    tot_p += close.iloc[-1, i]\n",
    "    \n",
    "for i in range(n):\n",
    "    weight = close.iloc[-1, i] / tot_p\n",
    "    p_w.append(weight)"
   ]
  },
  {
   "cell_type": "code",
   "execution_count": null,
   "id": "57983928",
   "metadata": {},
   "outputs": [],
   "source": [
    "'''Value-weighted portfolio'''\n",
    "m_w =[]\n",
    "\n",
    "tot_v = 0\n",
    "v = []\n",
    "main = list(full)\n",
    "for i in range(n):\n",
    "    idx = main[i]\n",
    "    value = full[idx].info['sharesOutstanding'] * close.iloc[-1, i]\n",
    "    v.append(value)\n",
    "    tot_v += value\n",
    "    \n",
    "for i in range(n):\n",
    "    weight = v[i] / tot_v\n",
    "    m_w.append(weight)"
   ]
  },
  {
   "cell_type": "code",
   "execution_count": null,
   "id": "bb9ec1ef",
   "metadata": {},
   "outputs": [],
   "source": [
    "'''Define function for vectorized backtesting'''\n",
    "def backtest(x, df):\n",
    "    tot = []\n",
    "    for i in range(n):\n",
    "        col = df.iloc[:, i] * x[i]\n",
    "        tot.append(col.sum())\n",
    "    return sum(tot)"
   ]
  },
  {
   "cell_type": "code",
   "execution_count": null,
   "id": "346c521d",
   "metadata": {},
   "outputs": [],
   "source": [
    "'''Backtest each scheme and display results'''\n",
    "optimal = round(backtest(opt_w, rtns) * 100, 2)\n",
    "equal = round(backtest(eq_w, rtns) * 100, 2)\n",
    "price = round(backtest(p_w, rtns) * 100, 2)\n",
    "market_value = round(backtest(m_w, rtns) * 100, 2)\n",
    "\n",
    "print('Returns for following schemes:')\n",
    "print(\n",
    "    f'Optimal: {optimal}%\\nEqual: {equal}%\\nPrice: {price}%\\nMarket Value: {market_value}%'\n",
    ")"
   ]
  }
 ],
 "metadata": {
  "kernelspec": {
   "display_name": "Python 3",
   "language": "python",
   "name": "python3"
  },
  "language_info": {
   "codemirror_mode": {
    "name": "ipython",
    "version": 3
   },
   "file_extension": ".py",
   "mimetype": "text/x-python",
   "name": "python",
   "nbconvert_exporter": "python",
   "pygments_lexer": "ipython3",
   "version": "3.9.2"
  }
 },
 "nbformat": 4,
 "nbformat_minor": 5
}
